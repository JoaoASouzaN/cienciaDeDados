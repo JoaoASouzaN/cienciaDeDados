{
  "nbformat": 4,
  "nbformat_minor": 0,
  "metadata": {
    "colab": {
      "provenance": []
    },
    "kernelspec": {
      "name": "python3",
      "display_name": "Python 3"
    },
    "language_info": {
      "name": "python"
    }
  },
  "cells": [
    {
      "cell_type": "code",
      "execution_count": null,
      "metadata": {
        "colab": {
          "base_uri": "https://localhost:8080/",
          "height": 435
        },
        "id": "9pHuvYDdOw6O",
        "outputId": "cee06963-9a2b-4cfd-e0d3-048b9245e35c"
      },
      "outputs": [
        {
          "output_type": "display_data",
          "data": {
            "text/plain": [
              "<IPython.core.display.HTML object>"
            ],
            "text/html": [
              "\n",
              "     <input type=\"file\" id=\"files-07b6184f-e3ed-41b4-a884-daa6440ad640\" name=\"files[]\" multiple disabled\n",
              "        style=\"border:none\" />\n",
              "     <output id=\"result-07b6184f-e3ed-41b4-a884-daa6440ad640\">\n",
              "      Upload widget is only available when the cell has been executed in the\n",
              "      current browser session. Please rerun this cell to enable.\n",
              "      </output>\n",
              "      <script>// Copyright 2017 Google LLC\n",
              "//\n",
              "// Licensed under the Apache License, Version 2.0 (the \"License\");\n",
              "// you may not use this file except in compliance with the License.\n",
              "// You may obtain a copy of the License at\n",
              "//\n",
              "//      http://www.apache.org/licenses/LICENSE-2.0\n",
              "//\n",
              "// Unless required by applicable law or agreed to in writing, software\n",
              "// distributed under the License is distributed on an \"AS IS\" BASIS,\n",
              "// WITHOUT WARRANTIES OR CONDITIONS OF ANY KIND, either express or implied.\n",
              "// See the License for the specific language governing permissions and\n",
              "// limitations under the License.\n",
              "\n",
              "/**\n",
              " * @fileoverview Helpers for google.colab Python module.\n",
              " */\n",
              "(function(scope) {\n",
              "function span(text, styleAttributes = {}) {\n",
              "  const element = document.createElement('span');\n",
              "  element.textContent = text;\n",
              "  for (const key of Object.keys(styleAttributes)) {\n",
              "    element.style[key] = styleAttributes[key];\n",
              "  }\n",
              "  return element;\n",
              "}\n",
              "\n",
              "// Max number of bytes which will be uploaded at a time.\n",
              "const MAX_PAYLOAD_SIZE = 100 * 1024;\n",
              "\n",
              "function _uploadFiles(inputId, outputId) {\n",
              "  const steps = uploadFilesStep(inputId, outputId);\n",
              "  const outputElement = document.getElementById(outputId);\n",
              "  // Cache steps on the outputElement to make it available for the next call\n",
              "  // to uploadFilesContinue from Python.\n",
              "  outputElement.steps = steps;\n",
              "\n",
              "  return _uploadFilesContinue(outputId);\n",
              "}\n",
              "\n",
              "// This is roughly an async generator (not supported in the browser yet),\n",
              "// where there are multiple asynchronous steps and the Python side is going\n",
              "// to poll for completion of each step.\n",
              "// This uses a Promise to block the python side on completion of each step,\n",
              "// then passes the result of the previous step as the input to the next step.\n",
              "function _uploadFilesContinue(outputId) {\n",
              "  const outputElement = document.getElementById(outputId);\n",
              "  const steps = outputElement.steps;\n",
              "\n",
              "  const next = steps.next(outputElement.lastPromiseValue);\n",
              "  return Promise.resolve(next.value.promise).then((value) => {\n",
              "    // Cache the last promise value to make it available to the next\n",
              "    // step of the generator.\n",
              "    outputElement.lastPromiseValue = value;\n",
              "    return next.value.response;\n",
              "  });\n",
              "}\n",
              "\n",
              "/**\n",
              " * Generator function which is called between each async step of the upload\n",
              " * process.\n",
              " * @param {string} inputId Element ID of the input file picker element.\n",
              " * @param {string} outputId Element ID of the output display.\n",
              " * @return {!Iterable<!Object>} Iterable of next steps.\n",
              " */\n",
              "function* uploadFilesStep(inputId, outputId) {\n",
              "  const inputElement = document.getElementById(inputId);\n",
              "  inputElement.disabled = false;\n",
              "\n",
              "  const outputElement = document.getElementById(outputId);\n",
              "  outputElement.innerHTML = '';\n",
              "\n",
              "  const pickedPromise = new Promise((resolve) => {\n",
              "    inputElement.addEventListener('change', (e) => {\n",
              "      resolve(e.target.files);\n",
              "    });\n",
              "  });\n",
              "\n",
              "  const cancel = document.createElement('button');\n",
              "  inputElement.parentElement.appendChild(cancel);\n",
              "  cancel.textContent = 'Cancel upload';\n",
              "  const cancelPromise = new Promise((resolve) => {\n",
              "    cancel.onclick = () => {\n",
              "      resolve(null);\n",
              "    };\n",
              "  });\n",
              "\n",
              "  // Wait for the user to pick the files.\n",
              "  const files = yield {\n",
              "    promise: Promise.race([pickedPromise, cancelPromise]),\n",
              "    response: {\n",
              "      action: 'starting',\n",
              "    }\n",
              "  };\n",
              "\n",
              "  cancel.remove();\n",
              "\n",
              "  // Disable the input element since further picks are not allowed.\n",
              "  inputElement.disabled = true;\n",
              "\n",
              "  if (!files) {\n",
              "    return {\n",
              "      response: {\n",
              "        action: 'complete',\n",
              "      }\n",
              "    };\n",
              "  }\n",
              "\n",
              "  for (const file of files) {\n",
              "    const li = document.createElement('li');\n",
              "    li.append(span(file.name, {fontWeight: 'bold'}));\n",
              "    li.append(span(\n",
              "        `(${file.type || 'n/a'}) - ${file.size} bytes, ` +\n",
              "        `last modified: ${\n",
              "            file.lastModifiedDate ? file.lastModifiedDate.toLocaleDateString() :\n",
              "                                    'n/a'} - `));\n",
              "    const percent = span('0% done');\n",
              "    li.appendChild(percent);\n",
              "\n",
              "    outputElement.appendChild(li);\n",
              "\n",
              "    const fileDataPromise = new Promise((resolve) => {\n",
              "      const reader = new FileReader();\n",
              "      reader.onload = (e) => {\n",
              "        resolve(e.target.result);\n",
              "      };\n",
              "      reader.readAsArrayBuffer(file);\n",
              "    });\n",
              "    // Wait for the data to be ready.\n",
              "    let fileData = yield {\n",
              "      promise: fileDataPromise,\n",
              "      response: {\n",
              "        action: 'continue',\n",
              "      }\n",
              "    };\n",
              "\n",
              "    // Use a chunked sending to avoid message size limits. See b/62115660.\n",
              "    let position = 0;\n",
              "    do {\n",
              "      const length = Math.min(fileData.byteLength - position, MAX_PAYLOAD_SIZE);\n",
              "      const chunk = new Uint8Array(fileData, position, length);\n",
              "      position += length;\n",
              "\n",
              "      const base64 = btoa(String.fromCharCode.apply(null, chunk));\n",
              "      yield {\n",
              "        response: {\n",
              "          action: 'append',\n",
              "          file: file.name,\n",
              "          data: base64,\n",
              "        },\n",
              "      };\n",
              "\n",
              "      let percentDone = fileData.byteLength === 0 ?\n",
              "          100 :\n",
              "          Math.round((position / fileData.byteLength) * 100);\n",
              "      percent.textContent = `${percentDone}% done`;\n",
              "\n",
              "    } while (position < fileData.byteLength);\n",
              "  }\n",
              "\n",
              "  // All done.\n",
              "  yield {\n",
              "    response: {\n",
              "      action: 'complete',\n",
              "    }\n",
              "  };\n",
              "}\n",
              "\n",
              "scope.google = scope.google || {};\n",
              "scope.google.colab = scope.google.colab || {};\n",
              "scope.google.colab._files = {\n",
              "  _uploadFiles,\n",
              "  _uploadFilesContinue,\n",
              "};\n",
              "})(self);\n",
              "</script> "
            ]
          },
          "metadata": {}
        },
        {
          "output_type": "stream",
          "name": "stdout",
          "text": [
            "Saving vendas_modificado.csv to vendas_modificado (4).csv\n"
          ]
        },
        {
          "output_type": "execute_result",
          "data": {
            "text/plain": [
              "   id_da_compra        data      hora                      cliente  \\\n",
              "0         13679   3/20/2021  23:35:51            LUCAS Araujo Kuhn   \n",
              "1         28070  10/30/2020   9:00:53         MICAEL SOUZA RONCETE   \n",
              "2         47484    6/9/2021  15:30:28    FELIPE AUGUSTO NERY SILVA   \n",
              "3         20809    6/4/2022   8:41:23        LEVI RIBEIRO AMORIM     \n",
              "4         47123    5/4/2019  13:38:45  GABRIEL MATOS LIMA DA CUNHA   \n",
              "\n",
              "            produto     valor  quantidade   total                status  \\\n",
              "0  Queijo Mussarela  R$ 16,87          13  239.31  Pagamento Confirmado   \n",
              "1   Molho de Tomate   R$ 3,25           3    9.75  Pagamento Confirmado   \n",
              "2      Água Mineral   R$ 1,63           9   36.67  Pagamento Confirmado   \n",
              "3            Carvão   R$ 8,74           4   54.96          Em Separação   \n",
              "4              Café   R$ 9,48           2   18.96          Em Separação   \n",
              "\n",
              "                  cidade estado    pais        cep  frete  \\\n",
              "0                Niterói     RJ  Brasil  24000-000   20.0   \n",
              "1                Mariana     MG  Brasil  35420-000    0.0   \n",
              "2              Cabo Frio     RJ  Brasil  28900-000   22.0   \n",
              "3  Campos dos Goytacazes     RJ  Brasil  28000-000   20.0   \n",
              "4   Conselheiro Lafaiete     MG  Brasil  36400-000    0.0   \n",
              "\n",
              "                pagamento                            vendedor         marca  \n",
              "0       Cartão de Crédito             SAMUEL HENRIQUE CAÇADOR  Porto Alegre  \n",
              "1                     Pix  MICAEL MALAQUIAS DE SOUZA OLIVEIRA        Fugini  \n",
              "2  Transferência Bancária         HENRICO MATOS LIMA DA CUNHA       Minalba  \n",
              "3                     Pix           GABRIEL QUEIROZ DE AGUIAR    Marca-Brás  \n",
              "4       Cartão de Crédito         HENRICO MATOS LIMA DA CUNHA    3 Corações  "
            ],
            "text/html": [
              "\n",
              "  <div id=\"df-f3d99246-eb75-4666-9c6a-eb9d9242d1a7\" class=\"colab-df-container\">\n",
              "    <div>\n",
              "<style scoped>\n",
              "    .dataframe tbody tr th:only-of-type {\n",
              "        vertical-align: middle;\n",
              "    }\n",
              "\n",
              "    .dataframe tbody tr th {\n",
              "        vertical-align: top;\n",
              "    }\n",
              "\n",
              "    .dataframe thead th {\n",
              "        text-align: right;\n",
              "    }\n",
              "</style>\n",
              "<table border=\"1\" class=\"dataframe\">\n",
              "  <thead>\n",
              "    <tr style=\"text-align: right;\">\n",
              "      <th></th>\n",
              "      <th>id_da_compra</th>\n",
              "      <th>data</th>\n",
              "      <th>hora</th>\n",
              "      <th>cliente</th>\n",
              "      <th>produto</th>\n",
              "      <th>valor</th>\n",
              "      <th>quantidade</th>\n",
              "      <th>total</th>\n",
              "      <th>status</th>\n",
              "      <th>cidade</th>\n",
              "      <th>estado</th>\n",
              "      <th>pais</th>\n",
              "      <th>cep</th>\n",
              "      <th>frete</th>\n",
              "      <th>pagamento</th>\n",
              "      <th>vendedor</th>\n",
              "      <th>marca</th>\n",
              "    </tr>\n",
              "  </thead>\n",
              "  <tbody>\n",
              "    <tr>\n",
              "      <th>0</th>\n",
              "      <td>13679</td>\n",
              "      <td>3/20/2021</td>\n",
              "      <td>23:35:51</td>\n",
              "      <td>LUCAS Araujo Kuhn</td>\n",
              "      <td>Queijo Mussarela</td>\n",
              "      <td>R$ 16,87</td>\n",
              "      <td>13</td>\n",
              "      <td>239.31</td>\n",
              "      <td>Pagamento Confirmado</td>\n",
              "      <td>Niterói</td>\n",
              "      <td>RJ</td>\n",
              "      <td>Brasil</td>\n",
              "      <td>24000-000</td>\n",
              "      <td>20.0</td>\n",
              "      <td>Cartão de Crédito</td>\n",
              "      <td>SAMUEL HENRIQUE CAÇADOR</td>\n",
              "      <td>Porto Alegre</td>\n",
              "    </tr>\n",
              "    <tr>\n",
              "      <th>1</th>\n",
              "      <td>28070</td>\n",
              "      <td>10/30/2020</td>\n",
              "      <td>9:00:53</td>\n",
              "      <td>MICAEL SOUZA RONCETE</td>\n",
              "      <td>Molho de Tomate</td>\n",
              "      <td>R$ 3,25</td>\n",
              "      <td>3</td>\n",
              "      <td>9.75</td>\n",
              "      <td>Pagamento Confirmado</td>\n",
              "      <td>Mariana</td>\n",
              "      <td>MG</td>\n",
              "      <td>Brasil</td>\n",
              "      <td>35420-000</td>\n",
              "      <td>0.0</td>\n",
              "      <td>Pix</td>\n",
              "      <td>MICAEL MALAQUIAS DE SOUZA OLIVEIRA</td>\n",
              "      <td>Fugini</td>\n",
              "    </tr>\n",
              "    <tr>\n",
              "      <th>2</th>\n",
              "      <td>47484</td>\n",
              "      <td>6/9/2021</td>\n",
              "      <td>15:30:28</td>\n",
              "      <td>FELIPE AUGUSTO NERY SILVA</td>\n",
              "      <td>Água Mineral</td>\n",
              "      <td>R$ 1,63</td>\n",
              "      <td>9</td>\n",
              "      <td>36.67</td>\n",
              "      <td>Pagamento Confirmado</td>\n",
              "      <td>Cabo Frio</td>\n",
              "      <td>RJ</td>\n",
              "      <td>Brasil</td>\n",
              "      <td>28900-000</td>\n",
              "      <td>22.0</td>\n",
              "      <td>Transferência Bancária</td>\n",
              "      <td>HENRICO MATOS LIMA DA CUNHA</td>\n",
              "      <td>Minalba</td>\n",
              "    </tr>\n",
              "    <tr>\n",
              "      <th>3</th>\n",
              "      <td>20809</td>\n",
              "      <td>6/4/2022</td>\n",
              "      <td>8:41:23</td>\n",
              "      <td>LEVI RIBEIRO AMORIM</td>\n",
              "      <td>Carvão</td>\n",
              "      <td>R$ 8,74</td>\n",
              "      <td>4</td>\n",
              "      <td>54.96</td>\n",
              "      <td>Em Separação</td>\n",
              "      <td>Campos dos Goytacazes</td>\n",
              "      <td>RJ</td>\n",
              "      <td>Brasil</td>\n",
              "      <td>28000-000</td>\n",
              "      <td>20.0</td>\n",
              "      <td>Pix</td>\n",
              "      <td>GABRIEL QUEIROZ DE AGUIAR</td>\n",
              "      <td>Marca-Brás</td>\n",
              "    </tr>\n",
              "    <tr>\n",
              "      <th>4</th>\n",
              "      <td>47123</td>\n",
              "      <td>5/4/2019</td>\n",
              "      <td>13:38:45</td>\n",
              "      <td>GABRIEL MATOS LIMA DA CUNHA</td>\n",
              "      <td>Café</td>\n",
              "      <td>R$ 9,48</td>\n",
              "      <td>2</td>\n",
              "      <td>18.96</td>\n",
              "      <td>Em Separação</td>\n",
              "      <td>Conselheiro Lafaiete</td>\n",
              "      <td>MG</td>\n",
              "      <td>Brasil</td>\n",
              "      <td>36400-000</td>\n",
              "      <td>0.0</td>\n",
              "      <td>Cartão de Crédito</td>\n",
              "      <td>HENRICO MATOS LIMA DA CUNHA</td>\n",
              "      <td>3 Corações</td>\n",
              "    </tr>\n",
              "  </tbody>\n",
              "</table>\n",
              "</div>\n",
              "    <div class=\"colab-df-buttons\">\n",
              "\n",
              "  <div class=\"colab-df-container\">\n",
              "    <button class=\"colab-df-convert\" onclick=\"convertToInteractive('df-f3d99246-eb75-4666-9c6a-eb9d9242d1a7')\"\n",
              "            title=\"Convert this dataframe to an interactive table.\"\n",
              "            style=\"display:none;\">\n",
              "\n",
              "  <svg xmlns=\"http://www.w3.org/2000/svg\" height=\"24px\" viewBox=\"0 -960 960 960\">\n",
              "    <path d=\"M120-120v-720h720v720H120Zm60-500h600v-160H180v160Zm220 220h160v-160H400v160Zm0 220h160v-160H400v160ZM180-400h160v-160H180v160Zm440 0h160v-160H620v160ZM180-180h160v-160H180v160Zm440 0h160v-160H620v160Z\"/>\n",
              "  </svg>\n",
              "    </button>\n",
              "\n",
              "  <style>\n",
              "    .colab-df-container {\n",
              "      display:flex;\n",
              "      gap: 12px;\n",
              "    }\n",
              "\n",
              "    .colab-df-convert {\n",
              "      background-color: #E8F0FE;\n",
              "      border: none;\n",
              "      border-radius: 50%;\n",
              "      cursor: pointer;\n",
              "      display: none;\n",
              "      fill: #1967D2;\n",
              "      height: 32px;\n",
              "      padding: 0 0 0 0;\n",
              "      width: 32px;\n",
              "    }\n",
              "\n",
              "    .colab-df-convert:hover {\n",
              "      background-color: #E2EBFA;\n",
              "      box-shadow: 0px 1px 2px rgba(60, 64, 67, 0.3), 0px 1px 3px 1px rgba(60, 64, 67, 0.15);\n",
              "      fill: #174EA6;\n",
              "    }\n",
              "\n",
              "    .colab-df-buttons div {\n",
              "      margin-bottom: 4px;\n",
              "    }\n",
              "\n",
              "    [theme=dark] .colab-df-convert {\n",
              "      background-color: #3B4455;\n",
              "      fill: #D2E3FC;\n",
              "    }\n",
              "\n",
              "    [theme=dark] .colab-df-convert:hover {\n",
              "      background-color: #434B5C;\n",
              "      box-shadow: 0px 1px 3px 1px rgba(0, 0, 0, 0.15);\n",
              "      filter: drop-shadow(0px 1px 2px rgba(0, 0, 0, 0.3));\n",
              "      fill: #FFFFFF;\n",
              "    }\n",
              "  </style>\n",
              "\n",
              "    <script>\n",
              "      const buttonEl =\n",
              "        document.querySelector('#df-f3d99246-eb75-4666-9c6a-eb9d9242d1a7 button.colab-df-convert');\n",
              "      buttonEl.style.display =\n",
              "        google.colab.kernel.accessAllowed ? 'block' : 'none';\n",
              "\n",
              "      async function convertToInteractive(key) {\n",
              "        const element = document.querySelector('#df-f3d99246-eb75-4666-9c6a-eb9d9242d1a7');\n",
              "        const dataTable =\n",
              "          await google.colab.kernel.invokeFunction('convertToInteractive',\n",
              "                                                    [key], {});\n",
              "        if (!dataTable) return;\n",
              "\n",
              "        const docLinkHtml = 'Like what you see? Visit the ' +\n",
              "          '<a target=\"_blank\" href=https://colab.research.google.com/notebooks/data_table.ipynb>data table notebook</a>'\n",
              "          + ' to learn more about interactive tables.';\n",
              "        element.innerHTML = '';\n",
              "        dataTable['output_type'] = 'display_data';\n",
              "        await google.colab.output.renderOutput(dataTable, element);\n",
              "        const docLink = document.createElement('div');\n",
              "        docLink.innerHTML = docLinkHtml;\n",
              "        element.appendChild(docLink);\n",
              "      }\n",
              "    </script>\n",
              "  </div>\n",
              "\n",
              "\n",
              "<div id=\"df-b03ad884-4657-488f-9500-8ca41b5ba1a6\">\n",
              "  <button class=\"colab-df-quickchart\" onclick=\"quickchart('df-b03ad884-4657-488f-9500-8ca41b5ba1a6')\"\n",
              "            title=\"Suggest charts\"\n",
              "            style=\"display:none;\">\n",
              "\n",
              "<svg xmlns=\"http://www.w3.org/2000/svg\" height=\"24px\"viewBox=\"0 0 24 24\"\n",
              "     width=\"24px\">\n",
              "    <g>\n",
              "        <path d=\"M19 3H5c-1.1 0-2 .9-2 2v14c0 1.1.9 2 2 2h14c1.1 0 2-.9 2-2V5c0-1.1-.9-2-2-2zM9 17H7v-7h2v7zm4 0h-2V7h2v10zm4 0h-2v-4h2v4z\"/>\n",
              "    </g>\n",
              "</svg>\n",
              "  </button>\n",
              "\n",
              "<style>\n",
              "  .colab-df-quickchart {\n",
              "      --bg-color: #E8F0FE;\n",
              "      --fill-color: #1967D2;\n",
              "      --hover-bg-color: #E2EBFA;\n",
              "      --hover-fill-color: #174EA6;\n",
              "      --disabled-fill-color: #AAA;\n",
              "      --disabled-bg-color: #DDD;\n",
              "  }\n",
              "\n",
              "  [theme=dark] .colab-df-quickchart {\n",
              "      --bg-color: #3B4455;\n",
              "      --fill-color: #D2E3FC;\n",
              "      --hover-bg-color: #434B5C;\n",
              "      --hover-fill-color: #FFFFFF;\n",
              "      --disabled-bg-color: #3B4455;\n",
              "      --disabled-fill-color: #666;\n",
              "  }\n",
              "\n",
              "  .colab-df-quickchart {\n",
              "    background-color: var(--bg-color);\n",
              "    border: none;\n",
              "    border-radius: 50%;\n",
              "    cursor: pointer;\n",
              "    display: none;\n",
              "    fill: var(--fill-color);\n",
              "    height: 32px;\n",
              "    padding: 0;\n",
              "    width: 32px;\n",
              "  }\n",
              "\n",
              "  .colab-df-quickchart:hover {\n",
              "    background-color: var(--hover-bg-color);\n",
              "    box-shadow: 0 1px 2px rgba(60, 64, 67, 0.3), 0 1px 3px 1px rgba(60, 64, 67, 0.15);\n",
              "    fill: var(--button-hover-fill-color);\n",
              "  }\n",
              "\n",
              "  .colab-df-quickchart-complete:disabled,\n",
              "  .colab-df-quickchart-complete:disabled:hover {\n",
              "    background-color: var(--disabled-bg-color);\n",
              "    fill: var(--disabled-fill-color);\n",
              "    box-shadow: none;\n",
              "  }\n",
              "\n",
              "  .colab-df-spinner {\n",
              "    border: 2px solid var(--fill-color);\n",
              "    border-color: transparent;\n",
              "    border-bottom-color: var(--fill-color);\n",
              "    animation:\n",
              "      spin 1s steps(1) infinite;\n",
              "  }\n",
              "\n",
              "  @keyframes spin {\n",
              "    0% {\n",
              "      border-color: transparent;\n",
              "      border-bottom-color: var(--fill-color);\n",
              "      border-left-color: var(--fill-color);\n",
              "    }\n",
              "    20% {\n",
              "      border-color: transparent;\n",
              "      border-left-color: var(--fill-color);\n",
              "      border-top-color: var(--fill-color);\n",
              "    }\n",
              "    30% {\n",
              "      border-color: transparent;\n",
              "      border-left-color: var(--fill-color);\n",
              "      border-top-color: var(--fill-color);\n",
              "      border-right-color: var(--fill-color);\n",
              "    }\n",
              "    40% {\n",
              "      border-color: transparent;\n",
              "      border-right-color: var(--fill-color);\n",
              "      border-top-color: var(--fill-color);\n",
              "    }\n",
              "    60% {\n",
              "      border-color: transparent;\n",
              "      border-right-color: var(--fill-color);\n",
              "    }\n",
              "    80% {\n",
              "      border-color: transparent;\n",
              "      border-right-color: var(--fill-color);\n",
              "      border-bottom-color: var(--fill-color);\n",
              "    }\n",
              "    90% {\n",
              "      border-color: transparent;\n",
              "      border-bottom-color: var(--fill-color);\n",
              "    }\n",
              "  }\n",
              "</style>\n",
              "\n",
              "  <script>\n",
              "    async function quickchart(key) {\n",
              "      const quickchartButtonEl =\n",
              "        document.querySelector('#' + key + ' button');\n",
              "      quickchartButtonEl.disabled = true;  // To prevent multiple clicks.\n",
              "      quickchartButtonEl.classList.add('colab-df-spinner');\n",
              "      try {\n",
              "        const charts = await google.colab.kernel.invokeFunction(\n",
              "            'suggestCharts', [key], {});\n",
              "      } catch (error) {\n",
              "        console.error('Error during call to suggestCharts:', error);\n",
              "      }\n",
              "      quickchartButtonEl.classList.remove('colab-df-spinner');\n",
              "      quickchartButtonEl.classList.add('colab-df-quickchart-complete');\n",
              "    }\n",
              "    (() => {\n",
              "      let quickchartButtonEl =\n",
              "        document.querySelector('#df-b03ad884-4657-488f-9500-8ca41b5ba1a6 button');\n",
              "      quickchartButtonEl.style.display =\n",
              "        google.colab.kernel.accessAllowed ? 'block' : 'none';\n",
              "    })();\n",
              "  </script>\n",
              "</div>\n",
              "\n",
              "    </div>\n",
              "  </div>\n"
            ],
            "application/vnd.google.colaboratory.intrinsic+json": {
              "type": "dataframe",
              "variable_name": "df"
            }
          },
          "metadata": {},
          "execution_count": 124
        }
      ],
      "source": [
        "import pandas as pd\n",
        "from google.colab import files\n",
        "\n",
        "# Upload do arquivo\n",
        "uploaded = files.upload()\n",
        "\n",
        "# Carregamento do dataset\n",
        "df = pd.read_csv(list(uploaded.keys())[0])\n",
        "df.columns = df.columns.str.strip()  # Remover espaços dos nomes das colunas\n",
        "\n",
        "# Ver os primeiros dados\n",
        "df.head()"
      ]
    },
    {
      "cell_type": "markdown",
      "source": [
        "**Limpeza basica:**"
      ],
      "metadata": {
        "id": "UW1UOE4BQxin"
      }
    },
    {
      "cell_type": "code",
      "source": [
        "# Verificar nulos\n",
        "print(\"Valores nulos por coluna:\")\n",
        "print(df.isnull().sum())\n",
        "\n",
        "# Remover duplicatas\n",
        "df.drop_duplicates(inplace=True)\n",
        "\n",
        "# Cria uma cópia antes da conversão numérica\n",
        "df['valor_limpo'] = df['valor'].str.replace('R\\$', '', regex=True).str.strip()\n",
        "\n",
        "# Filtra os que dariam NaN\n",
        "problemas = df.loc[pd.to_numeric(df['valor_limpo'], errors='coerce').isna(), 'valor_limpo']\n",
        "print(problemas.unique())\n",
        "\n",
        "# Tratar nulos com valores padrão (ajuste conforme necessidade)\n",
        "df['cliente'].fillna('Desconhecido', inplace=True)\n",
        "df['valor'].fillna(0, inplace=True)\n",
        "df['quantidade'].fillna(1, inplace=True)\n",
        "df['frete'].fillna(0, inplace=True)\n",
        "df['status'].fillna('indefinido', inplace=True)"
      ],
      "metadata": {
        "colab": {
          "base_uri": "https://localhost:8080/"
        },
        "id": "YTinwIEbQ1Y_",
        "outputId": "20ada758-a667-438f-8e06-9da86b173f56"
      },
      "execution_count": null,
      "outputs": [
        {
          "output_type": "stream",
          "name": "stdout",
          "text": [
            "Valores nulos por coluna:\n",
            "id_da_compra       0\n",
            "data               0\n",
            "hora               0\n",
            "cliente            0\n",
            "produto            0\n",
            "valor              0\n",
            "quantidade         0\n",
            "total           3685\n",
            "status             0\n",
            "cidade             0\n",
            "estado             0\n",
            "pais               0\n",
            "cep                0\n",
            "frete           7371\n",
            "pagamento          0\n",
            "vendedor        3680\n",
            "marca              0\n",
            "dtype: int64\n",
            "['16,87' '3,25' '1,63' ... '37,15' '153,26999999999998'\n",
            " '2022,6399999999999']\n"
          ]
        },
        {
          "output_type": "stream",
          "name": "stderr",
          "text": [
            "<ipython-input-125-d178841e3a39>:16: FutureWarning: A value is trying to be set on a copy of a DataFrame or Series through chained assignment using an inplace method.\n",
            "The behavior will change in pandas 3.0. This inplace method will never work because the intermediate object on which we are setting values always behaves as a copy.\n",
            "\n",
            "For example, when doing 'df[col].method(value, inplace=True)', try using 'df.method({col: value}, inplace=True)' or df[col] = df[col].method(value) instead, to perform the operation inplace on the original object.\n",
            "\n",
            "\n",
            "  df['cliente'].fillna('Desconhecido', inplace=True)\n",
            "<ipython-input-125-d178841e3a39>:18: FutureWarning: A value is trying to be set on a copy of a DataFrame or Series through chained assignment using an inplace method.\n",
            "The behavior will change in pandas 3.0. This inplace method will never work because the intermediate object on which we are setting values always behaves as a copy.\n",
            "\n",
            "For example, when doing 'df[col].method(value, inplace=True)', try using 'df.method({col: value}, inplace=True)' or df[col] = df[col].method(value) instead, to perform the operation inplace on the original object.\n",
            "\n",
            "\n",
            "  df['quantidade'].fillna(1, inplace=True)\n",
            "<ipython-input-125-d178841e3a39>:19: FutureWarning: A value is trying to be set on a copy of a DataFrame or Series through chained assignment using an inplace method.\n",
            "The behavior will change in pandas 3.0. This inplace method will never work because the intermediate object on which we are setting values always behaves as a copy.\n",
            "\n",
            "For example, when doing 'df[col].method(value, inplace=True)', try using 'df.method({col: value}, inplace=True)' or df[col] = df[col].method(value) instead, to perform the operation inplace on the original object.\n",
            "\n",
            "\n",
            "  df['frete'].fillna(0, inplace=True)\n",
            "<ipython-input-125-d178841e3a39>:20: FutureWarning: A value is trying to be set on a copy of a DataFrame or Series through chained assignment using an inplace method.\n",
            "The behavior will change in pandas 3.0. This inplace method will never work because the intermediate object on which we are setting values always behaves as a copy.\n",
            "\n",
            "For example, when doing 'df[col].method(value, inplace=True)', try using 'df.method({col: value}, inplace=True)' or df[col] = df[col].method(value) instead, to perform the operation inplace on the original object.\n",
            "\n",
            "\n",
            "  df['status'].fillna('indefinido', inplace=True)\n"
          ]
        }
      ]
    },
    {
      "cell_type": "markdown",
      "source": [
        "**Padronização e Correção**"
      ],
      "metadata": {
        "id": "1V1pNT7RRyNf"
      }
    },
    {
      "cell_type": "code",
      "source": [
        "# 1. Remover \"R$\", espaços extras e substituir vírgulas por pontos (caso haja valores como \"R$ 15,90\")\n",
        "df['valor'] = df['valor'].astype(str)  # garantir que tudo é string\n",
        "df['valor'] = df['valor'].str.replace('R\\$', '', regex=True)\n",
        "df['valor'] = df['valor'].str.replace(',', '.', regex=False)\n",
        "df['valor'] = df['valor'].str.strip()\n",
        "\n",
        "# 2. Converter para numérico\n",
        "df['valor'] = pd.to_numeric(df['valor'], errors='coerce')\n",
        "\n",
        "# 3. Verificar se ainda há valores NaN\n",
        "print(\"Valores NaN:\", df['valor'].isnull().sum())"
      ],
      "metadata": {
        "colab": {
          "base_uri": "https://localhost:8080/"
        },
        "id": "PkPy61KsR9yj",
        "outputId": "6f2006ef-1d4a-4f10-a613-0f85f45477a5"
      },
      "execution_count": null,
      "outputs": [
        {
          "output_type": "stream",
          "name": "stdout",
          "text": [
            "Valores NaN: 0\n"
          ]
        }
      ]
    },
    {
      "cell_type": "code",
      "source": [
        "# Remove linhas com valor NaN na coluna 'valor'\n",
        "df = df.dropna(subset=['valor'])\n",
        "\n",
        "# Confere se deu certo\n",
        "print(df['valor'].isna().sum())  # Deve retornar 0\n"
      ],
      "metadata": {
        "colab": {
          "base_uri": "https://localhost:8080/"
        },
        "id": "ikIYoqzGH6Z_",
        "outputId": "04372149-dde2-4670-f79c-4f6a1d97dc11"
      },
      "execution_count": null,
      "outputs": [
        {
          "output_type": "stream",
          "name": "stdout",
          "text": [
            "0\n"
          ]
        }
      ]
    },
    {
      "cell_type": "code",
      "source": [
        "print(df['valor'])"
      ],
      "metadata": {
        "colab": {
          "base_uri": "https://localhost:8080/"
        },
        "id": "42BQoUJ_LrJH",
        "outputId": "9a89825a-e218-47aa-e8fb-c2d43f6abfb3"
      },
      "execution_count": null,
      "outputs": [
        {
          "output_type": "stream",
          "name": "stdout",
          "text": [
            "0          16.87\n",
            "1           3.25\n",
            "2           1.63\n",
            "3           8.74\n",
            "4           9.48\n",
            "           ...  \n",
            "368747      1.43\n",
            "368748    682.51\n",
            "368749     11.01\n",
            "368750      4.56\n",
            "368751      3.17\n",
            "Name: valor, Length: 363511, dtype: float64\n"
          ]
        }
      ]
    },
    {
      "cell_type": "code",
      "source": [
        "# Datas e hora\n",
        "df['data'] = pd.to_datetime(df['data'], errors='coerce')\n",
        "df['hora'] = pd.to_datetime(df['hora'], format='%H:%M:%S', errors='coerce').dt.time"
      ],
      "metadata": {
        "id": "fk_VE-76SHDn"
      },
      "execution_count": null,
      "outputs": []
    },
    {
      "cell_type": "code",
      "source": [
        "# Padronizado textos\n",
        "colunas_texto = ['cidade', 'estado', 'pais', 'status', 'pagamento', 'vendedor', 'marca']\n",
        "\n",
        "for col in colunas_texto:\n",
        "    df[col] = df[col].astype(str).str.strip().str.lower()"
      ],
      "metadata": {
        "id": "NQKzu7-XSjOS"
      },
      "execution_count": null,
      "outputs": []
    },
    {
      "cell_type": "code",
      "source": [
        "# Ver os uniques na coluna cidade\n",
        "\n",
        "df['cidade'].unique()"
      ],
      "metadata": {
        "colab": {
          "base_uri": "https://localhost:8080/"
        },
        "id": "3DpRP9GQTVEv",
        "outputId": "17d05765-9112-4f89-e5f5-45220f3e6c6e"
      },
      "execution_count": null,
      "outputs": [
        {
          "output_type": "execute_result",
          "data": {
            "text/plain": [
              "array(['niterói', 'mariana', 'cabo frio', 'campos dos goytacazes',\n",
              "       'conselheiro lafaiete', 'resende costa', 'são paulo', 'bicas',\n",
              "       'são joão del-rei', 'são gonçalo', 'são bernardo do campo',\n",
              "       'duque de caxias', 'macaé', 'viçosa', 'juiz de fora', 'guarulhos',\n",
              "       'matias barbosa', 'campinas', 'barroso', 'carandaí', 'barbacena',\n",
              "       'itaboraí', 'muriaé', 'petrópolis', 'ouro branco', 'prados',\n",
              "       'santos dumont', 'cataguases', 'são joão de meriti', 'ubá',\n",
              "       'palma', 'simão pereira', 'magé', 'ewbank da câmara',\n",
              "       'santana do garambéu', 'astolfo dutra', 'são joão nepomuceno',\n",
              "       'belo horizonte', 'tocantins', 'congonhas', 'são vicente de minas',\n",
              "       'coronel xavier chaves', 'leopoldina', 'belford roxo', 'ritápolis',\n",
              "       'lagoa dourada', 'rio de janeiro', 'nova iguaçu', 'são tiago',\n",
              "       'são josé dos campos', 'volta redonda', 'lima duarte',\n",
              "       'santo andré', 'tiradentes', 'ouro preto', 'angra dos reis'],\n",
              "      dtype=object)"
            ]
          },
          "metadata": {},
          "execution_count": 132
        }
      ]
    },
    {
      "cell_type": "code",
      "source": [
        "# Ver os uniques na coluna estado\n",
        "\n",
        "df['estado'].unique()"
      ],
      "metadata": {
        "colab": {
          "base_uri": "https://localhost:8080/"
        },
        "id": "0mEN8x-FT740",
        "outputId": "f0229f57-5324-4625-d513-fee1054a5cd6"
      },
      "execution_count": null,
      "outputs": [
        {
          "output_type": "execute_result",
          "data": {
            "text/plain": [
              "array(['rj', 'mg', 'sp', 'mtsa', 'são paulo', 'rs', 'pr', 'psc'],\n",
              "      dtype=object)"
            ]
          },
          "metadata": {},
          "execution_count": 133
        }
      ]
    },
    {
      "cell_type": "code",
      "source": [
        "# Correção das siglas\n",
        "\n",
        "df['estado'] = df['estado'].str.strip().str.lower()\n",
        "\n",
        "df['estado'] = df['estado'].replace({\n",
        "    'são paulo': 'sp',\n",
        "    'mtsa': 'mt',\n",
        "    'psc': 'sc'\n",
        "})"
      ],
      "metadata": {
        "id": "R8lqCPAGX4Ki"
      },
      "execution_count": null,
      "outputs": []
    },
    {
      "cell_type": "code",
      "source": [
        "# Ver os uniques na coluna pais\n",
        "\n",
        "df['pais'].unique()"
      ],
      "metadata": {
        "colab": {
          "base_uri": "https://localhost:8080/"
        },
        "id": "2zONe-MsUMPK",
        "outputId": "1608d5a4-250c-4180-bad2-266c92df3919"
      },
      "execution_count": null,
      "outputs": [
        {
          "output_type": "execute_result",
          "data": {
            "text/plain": [
              "array(['brasil'], dtype=object)"
            ]
          },
          "metadata": {},
          "execution_count": 135
        }
      ]
    },
    {
      "cell_type": "code",
      "source": [
        "# Ver os uniques na coluna status\n",
        "\n",
        "df['status'].unique()"
      ],
      "metadata": {
        "colab": {
          "base_uri": "https://localhost:8080/"
        },
        "id": "z4IHbeFqUQVa",
        "outputId": "f443a4c4-a4d1-436f-baf9-25985ed8feec"
      },
      "execution_count": null,
      "outputs": [
        {
          "output_type": "execute_result",
          "data": {
            "text/plain": [
              "array(['pagamento confirmado', 'em separação', 'entregue com sucesso',\n",
              "       'aguardando pagamento', 'em transporte', 'ap', 'entregue', 'pc',\n",
              "       'sep', 'separando', 'pgto confirmado', 'transp', 'entg',\n",
              "       'aguardando pgto', 'transportando'], dtype=object)"
            ]
          },
          "metadata": {},
          "execution_count": 136
        }
      ]
    },
    {
      "cell_type": "code",
      "source": [
        "# Padronização na coluna status:\n",
        "\n",
        "df['status'] = df['status'].str.strip().str.lower()\n",
        "\n",
        "df['status'] = df['status'].replace({\n",
        "    'pgto confirmado': 'pagamento confirmado',\n",
        "    'aguardando pgto': 'aguardando pagamento',\n",
        "    'sep': 'em separação',\n",
        "    'separando': 'em separação',\n",
        "    'transp': 'em transporte',\n",
        "    'transportando': 'em transporte',\n",
        "    'entregue com sucesso': 'entregue',\n",
        "    'entg': 'entregue',\n",
        "    'ap': 'aguardando pagamento',\n",
        "    'pc': 'pagamento confirmado'\n",
        "})"
      ],
      "metadata": {
        "id": "MztEdvzDYuy0"
      },
      "execution_count": null,
      "outputs": []
    },
    {
      "cell_type": "code",
      "source": [
        "# Ver os uniques na coluna pagamento\n",
        "\n",
        "df['pagamento'].unique()"
      ],
      "metadata": {
        "colab": {
          "base_uri": "https://localhost:8080/"
        },
        "id": "fHzEB_aZUX4e",
        "outputId": "d0463c60-2b0e-406e-ab8b-c11047dd493a"
      },
      "execution_count": null,
      "outputs": [
        {
          "output_type": "execute_result",
          "data": {
            "text/plain": [
              "array(['cartão de crédito', 'pix', 'transferência bancária', 'boleto',\n",
              "       'pix à vista', 'cartão crédito à vista', 'pagamento instantâneo',\n",
              "       'cartão crédito', 'boleto à vista', 'doc', 'ted',\n",
              "       'boleto no dinheiro'], dtype=object)"
            ]
          },
          "metadata": {},
          "execution_count": 138
        }
      ]
    },
    {
      "cell_type": "code",
      "source": [
        "df['pagamento'] = df['pagamento'].str.strip().str.lower()\n",
        "\n",
        "df['pagamento'] = df['pagamento'].replace({\n",
        "    'cartão crédito': 'cartão de crédito',\n",
        "    'cartão crédito à vista': 'cartão de crédito',\n",
        "    'pix à vista': 'pix',\n",
        "    'pagamento instantâneo': 'pix',\n",
        "    'boleto à vista': 'boleto',\n",
        "    'boleto no dinheiro': 'dinheiro',\n",
        "    'doc': 'transferência bancária',\n",
        "    'ted': 'transferência bancária'\n",
        "})"
      ],
      "metadata": {
        "id": "S1syGXj_bLl7"
      },
      "execution_count": null,
      "outputs": []
    },
    {
      "cell_type": "code",
      "source": [
        "# Ver os uniques na coluna vendedor\n",
        "\n",
        "df['vendedor'].unique()"
      ],
      "metadata": {
        "colab": {
          "base_uri": "https://localhost:8080/"
        },
        "id": "Agkj9dzfUd0e",
        "outputId": "dd13cd2c-5598-4cdb-9f3f-6ad436a5bf5f"
      },
      "execution_count": null,
      "outputs": [
        {
          "output_type": "execute_result",
          "data": {
            "text/plain": [
              "array(['samuel henrique caçador', 'micael malaquias de souza oliveira',\n",
              "       'henrico matos lima da cunha', 'gabriel queiroz de aguiar',\n",
              "       'victor gonçalves donadoni',\n",
              "       'felipe henrique costa barnabe marazo', 'henrico victor alves',\n",
              "       'carlos queiroz de aguiar', 'lucas vitor façanha neves',\n",
              "       'paulo souza roncete', 'nan'], dtype=object)"
            ]
          },
          "metadata": {},
          "execution_count": 140
        }
      ]
    },
    {
      "cell_type": "code",
      "source": [
        "# Ver os uniques na coluna marca\n",
        "\n",
        "df['marca'].unique()"
      ],
      "metadata": {
        "colab": {
          "base_uri": "https://localhost:8080/"
        },
        "id": "eQnRE49jUlzT",
        "outputId": "d9ebed2b-189d-4d9f-f987-d48cb4c5ac68"
      },
      "execution_count": null,
      "outputs": [
        {
          "output_type": "execute_result",
          "data": {
            "text/plain": [
              "array(['porto alegre', 'fugini', 'minalba', 'marca-brás', '3 corações',\n",
              "       'caldo bom', 'pantene', 'dove', 'caravelas', 'crystal', 'itambé',\n",
              "       'neve', 'liza', 'predilecta', 'pilão', 'seda', 'melitta', 'salton',\n",
              "       'adria', 'coamo', 'aurora', 'skol', 'união', 'scott', 'miolo',\n",
              "       'oral-b', 'aviação', 'itamarati', 'nutrella', 'sorriso',\n",
              "       'brilhante', 'elefante', 'snob', 'confort', 'pinho sol',\n",
              "       'coca-cola', 'nivea', 'lysoform', 'tirolez', 'kicaldo', 'colgate',\n",
              "       'concha y toro', 'urbano', 'sol', 'fofo', 'triunfo', 'quatá',\n",
              "       'lebre', 'prats', 'dona benta', 'bauducco', 'lux', 'ypê',\n",
              "       'dafruta', 'barilla', 'elite', 'tixan', 'elegê', 'tio joão',\n",
              "       'minuano', 'soya', 'renata', 'dualette', 'wickbold', 'nestlé',\n",
              "       'qualy', 'cisne', 'pullman', 'marinho', 'fanta', 'limpol',\n",
              "       'perdigão', 'guaraná antártica', 'veja', 'brahma', 'omo',\n",
              "       'heineken', 'genérico', 'del valle', 'anaconda', 'personal',\n",
              "       'sadia', 'namorado', 'são lourenço', 'ki-brasa', 'downy', 'camil',\n",
              "       'piracanjuba'], dtype=object)"
            ]
          },
          "metadata": {},
          "execution_count": 151
        }
      ]
    },
    {
      "cell_type": "code",
      "source": [
        "# Ver os uniques na coluna produto\n",
        "\n",
        "df['produto'].unique()"
      ],
      "metadata": {
        "colab": {
          "base_uri": "https://localhost:8080/"
        },
        "id": "aO773EvKeZTX",
        "outputId": "9a49f4fd-0d12-4deb-d0eb-9743a9660dfd"
      },
      "execution_count": null,
      "outputs": [
        {
          "output_type": "execute_result",
          "data": {
            "text/plain": [
              "array(['Queijo Mussarela', 'Molho de Tomate', 'Água Mineral', 'Carvão',\n",
              "       'Café', 'Feijão', 'Condicionador', 'Sabonete', 'Açúcar',\n",
              "       'Manteiga', 'Papel Higiênico', 'Óleo de Soja', 'Vinho', 'Macarrão',\n",
              "       'Shampoo', 'Presunto', 'Cerveja', 'Papel Toalha', 'Pasta de Dente',\n",
              "       'Pão de Forma', 'Sabão em Pó', 'Amaciante', 'Desinfetante',\n",
              "       'Refrigerante', 'Arroz', 'Farinha de Trigo', 'Biscoito Recheado',\n",
              "       'Sal', 'Suco de Laranja', 'Leite Integral', 'Detergente',\n",
              "       'Refrigkrante', 'Scl', 'Papel qoalha', 'Desinfetanue',\n",
              "       'Qbeijo Mussarela', 'Água Mineras', 'Presuntd', 'Macawrão',\n",
              "       'Sucoyde Laranja', 'Clfé', 'Desinfekante', 'Majarrão', 'Cnfé',\n",
              "       'Farinha de Tripo', 'Manteigt', 'zabonete', 'Mqcarrão', 'Arroc',\n",
              "       'tal', 'Sabonepe', 'Papel Twalha', 'Água Mineual', 'Condicioiador',\n",
              "       'Condibionador', 'Caft', 'ieijão', 'Açúcaz', 'Amaciayte', 'Caff',\n",
              "       'Mopho de Tomate', 'Molmo de Tomate', 'Biscoitq Recheado',\n",
              "       'Macirrão', 'Deqergente', 'Cafc', 'Queijo Mussarelz', 'Deterwente'],\n",
              "      dtype=object)"
            ]
          },
          "metadata": {},
          "execution_count": 152
        }
      ]
    },
    {
      "cell_type": "code",
      "source": [
        "# Correcao em produtos\n",
        "df['produto'] = df['produto'].replace({  # Changed 'produtos' to 'produto'\n",
        "    'café': ['café', 'cafc', 'caft', 'cnfé', 'clfé', 'caff', 'Café#$@!', 'Clfé', 'Cnfé', 'Caft', 'Caff', 'Cafc'],\n",
        "    'pão de forma': ['pão de forma', 'Pão de Forma#$@!'],\n",
        "    'sabão em pó': ['sabão em pó', 'sabonepe', 'Sabão em Pó#$@!'],\n",
        "    'molho de tomate': ['molho de tomate', 'molmo de tomate', 'mopho de tomate', 'Molho de Tomate#$@!', 'Mopho de Tomate'],\n",
        "    'macarrão': ['macarrão', 'majarrão', 'macawrão', 'macirrão', 'mqcarrão', 'Macarrão#$@!', 'Macawrão', 'Majarrão', 'Mqcarrão'],\n",
        "    'desinfetante': ['desinfetante', 'desinfetanue', 'desinfekante', 'Desinfetante#$@!', 'Desinfetanue', 'Desinfekante'],\n",
        "    'presunto': ['presunto', 'presuntd', 'Presunto#$@!', 'Presuntd'],\n",
        "    'água mineral': ['água mineral', 'água mineras', 'água mineual','Água Mineral#$@!', 'Água Mineras', 'Água Mineual'],\n",
        "    'feijão': ['feijão', 'ieijão', 'Feijão#$@!', 'ieijão'],\n",
        "    'manteiga': ['manteiga', 'manteigt', 'Manteiga#$@!', 'Manteigt'],\n",
        "    'condicionador': ['condicionador', 'condicioiador', 'condibionador', 'Condicionador#$@!', 'Condicioiador#$@!', 'Condibionador'],\n",
        "    'biscoito recheado': ['biscoito recheado', 'biscoitq recheado', 'Biscoito Recheado#$@!'],\n",
        "    'detergente': ['detergente', 'deqergente', 'deterwente', 'Detergente#$@!', 'Deqergente', 'Deterwente'],\n",
        "    'arroz': ['arroz', 'arroc', 'Arroz#$@!', 'Arroc'],\n",
        "    'sal': ['sal', 'scl', 'tal', 'Sal#$@!', 'Scl'],\n",
        "    'papel toalha': ['papel toalha', 'papel twalha', 'papel qoalha', 'Papel Toalha#$@!', 'Papel qoalha', 'Papel Twalha'],\n",
        "    'queijo mussarela': ['queijo mussarela', 'qbeijo mussarela', 'queijo mussarelz', 'Queijo Mussarela#$@!', 'Qbeijo Mussarela', 'Queijo Mussarelz'],\n",
        "    'suco de laranja': ['suco de laranja', 'sucoyde laranja', 'Suco de Laranja#$@!', 'Sucoyde Laranja'],\n",
        "    'açúcar': ['açúcar', 'açúcaz', 'Açúcar#$@!', 'Açúcaz'],\n",
        "    'amaciante': ['amaciante', 'amaciayte', 'Amaciante#$@!', 'Amaciayte'],\n",
        "    'refrigerante': ['refrigerante', 'refrigkrante', 'Refrigerante#$@!', 'Refrigkrante'],\n",
        "    'shampoo': ['shampoo', 'Shampoo#$@!'],\n",
        "    'sabonete': ['Sabonete#$@!', 'zabonete', 'Sabonepe'],\n",
        "    'papel higiênico': ['papel higiênico', 'Papel Higiênico#$@!'],\n",
        "    'pasta de dente': ['pasta de dente', 'Pasta de Dente#$@!'],\n",
        "    'leite integral': ['leite integral', 'Leite Integral#$@!'],\n",
        "    'óleo de soja': ['óleo de soja', 'Óleo de Soja#$@!'],\n",
        "    'farinha de trigo': ['Farinha de Trigo#$@!', 'Farinha de Tripo'],\n",
        "    'cerveja': ['cerveja', 'Cerveja#$@!'],\n",
        "    'vinho': ['vinho', 'Vinho#$@!'],\n",
        "    'carvão': ['Carvão', 'Carvão#$@!']\n",
        "})"
      ],
      "metadata": {
        "id": "zctDNNsbfSjw"
      },
      "execution_count": null,
      "outputs": []
    },
    {
      "cell_type": "code",
      "source": [
        "# Corrigindo valores com caracteres especiais\n",
        "for produto in df['produto'].unique():\n",
        "    if \"#$@!\" in produto:\n",
        "        df['produto'] = df['produto'].replace({produto: produto.replace(\"#$@!\", \"\")})\n",
        "\n",
        "# Verificando os valores únicos após a correção\n",
        "print(df['produto'].unique())"
      ],
      "metadata": {
        "colab": {
          "base_uri": "https://localhost:8080/"
        },
        "id": "hzwkkJrKoOkD",
        "outputId": "38482530-8985-49ae-c098-2d104bc0d71e"
      },
      "execution_count": null,
      "outputs": [
        {
          "output_type": "stream",
          "name": "stdout",
          "text": [
            "['Queijo Mussarela' 'Molho de Tomate' 'Água Mineral' 'Carvão' 'Café'\n",
            " 'Feijão' 'Condicionador' 'Sabonete' 'Açúcar' 'Manteiga' 'Papel Higiênico'\n",
            " 'Óleo de Soja' 'Vinho' 'Macarrão' 'Shampoo' 'Presunto' 'Cerveja'\n",
            " 'Papel Toalha' 'Pasta de Dente' 'Pão de Forma' 'Sabão em Pó' 'Amaciante'\n",
            " 'Desinfetante' 'Refrigerante' 'Arroz' 'Farinha de Trigo'\n",
            " 'Biscoito Recheado' 'Sal' 'Suco de Laranja' 'Leite Integral' 'Detergente'\n",
            " 'Refrigkrante' 'Scl' 'Papel qoalha' 'Desinfetanue' 'Qbeijo Mussarela'\n",
            " 'Água Mineras' 'Presuntd' 'Macawrão' 'Sucoyde Laranja' 'Clfé'\n",
            " 'Desinfekante' 'Majarrão' 'Cnfé' 'Farinha de Tripo' 'Manteigt' 'zabonete'\n",
            " 'Mqcarrão' 'Arroc' 'tal' 'Sabonepe' 'Papel Twalha' 'Água Mineual'\n",
            " 'Condicioiador' 'Condibionador' 'Caft' 'ieijão' 'Açúcaz' 'Amaciayte'\n",
            " 'Caff' 'Mopho de Tomate' 'Molmo de Tomate' 'Biscoitq Recheado' 'Macirrão'\n",
            " 'Deqergente' 'Cafc' 'Queijo Mussarelz' 'Deterwente']\n"
          ]
        }
      ]
    },
    {
      "cell_type": "code",
      "source": [
        "# Ver os uniques na coluna valor\n",
        "\n",
        "df['frete'].unique()"
      ],
      "metadata": {
        "colab": {
          "base_uri": "https://localhost:8080/"
        },
        "id": "mgNLvvzqo3Xo",
        "outputId": "4972976e-3bc2-4c97-bd21-442026a0b4b3"
      },
      "execution_count": null,
      "outputs": [
        {
          "output_type": "execute_result",
          "data": {
            "text/plain": [
              "array([ 20. ,   0. ,  22. ,  10. ,   9. ,  10.5,  18. ,  19. ,  13. ,\n",
              "         8.5,  18.5,  12. ,   8. ,  11. ,  21. ,   9.5, 100. ,  17. ,\n",
              "        95. ,  23. ,  12.5,  80. ,  90. ,  85. ])"
            ]
          },
          "metadata": {},
          "execution_count": 155
        }
      ]
    },
    {
      "cell_type": "code",
      "source": [
        "import numpy as np\n",
        "\n",
        "# Multiplicar valores negativos por -1\n",
        "df['frete'] = df['frete'].abs()  # Usando abs() para tornar todos os valores positivos\n",
        "\n",
        "# Definir limite superior para o frete (ajuste conforme necessário)\n",
        "limite_superior = 100\n",
        "\n",
        "# Substituir valores acima do limite pelo limite\n",
        "df['frete'] = np.where(df['frete'] > limite_superior, limite_superior, df['frete'])\n",
        "\n",
        "# Verificar os valores únicos após a correção\n",
        "print(df['frete'].unique())"
      ],
      "metadata": {
        "colab": {
          "base_uri": "https://localhost:8080/"
        },
        "id": "Hu9KJUFSpMht",
        "outputId": "51f85102-6ec2-4624-daef-924581684289"
      },
      "execution_count": null,
      "outputs": [
        {
          "output_type": "stream",
          "name": "stdout",
          "text": [
            "[ 20.    0.   22.   10.    9.   10.5  18.   19.   13.    8.5  18.5  12.\n",
            "   8.   11.   21.    9.5 100.   17.   95.   23.   12.5  80.   90.   85. ]\n"
          ]
        }
      ]
    },
    {
      "cell_type": "code",
      "source": [
        "df['cliente'] = df['cliente'].str.upper()\n",
        "df['vendedor'] = df['vendedor'].str.upper()"
      ],
      "metadata": {
        "id": "6x8powdWMgAK"
      },
      "execution_count": null,
      "outputs": []
    },
    {
      "cell_type": "code",
      "source": [
        "df.head()"
      ],
      "metadata": {
        "colab": {
          "base_uri": "https://localhost:8080/",
          "height": 362
        },
        "id": "J1CN9eChMB-1",
        "outputId": "12619dda-3b3d-4f2f-a5c8-3047599d163c"
      },
      "execution_count": null,
      "outputs": [
        {
          "output_type": "execute_result",
          "data": {
            "text/plain": [
              "   id_da_compra       data      hora                      cliente  \\\n",
              "0         13679 2021-03-20  23:35:51            LUCAS ARAUJO KUHN   \n",
              "1         28070 2020-10-30  09:00:53         MICAEL SOUZA RONCETE   \n",
              "2         47484 2021-06-09  15:30:28    FELIPE AUGUSTO NERY SILVA   \n",
              "3         20809 2022-06-04  08:41:23        LEVI RIBEIRO AMORIM     \n",
              "4         47123 2019-05-04  13:38:45  GABRIEL MATOS LIMA DA CUNHA   \n",
              "\n",
              "            produto  valor  quantidade   total                status  \\\n",
              "0  Queijo Mussarela  16.87          13  239.31  pagamento confirmado   \n",
              "1   Molho De Tomate   3.25           3    9.75  pagamento confirmado   \n",
              "2      Água Mineral   1.63           9   36.67  pagamento confirmado   \n",
              "3            Carvão   8.74           4   54.96          em separação   \n",
              "4              Café   9.48           2   18.96          em separação   \n",
              "\n",
              "                  cidade estado    pais  frete               pagamento  \\\n",
              "0                niterói     rj  brasil   20.0       cartão de crédito   \n",
              "1                mariana     mg  brasil    0.0                     pix   \n",
              "2              cabo frio     rj  brasil   22.0  transferência bancária   \n",
              "3  campos dos goytacazes     rj  brasil   20.0                     pix   \n",
              "4   conselheiro lafaiete     mg  brasil    0.0       cartão de crédito   \n",
              "\n",
              "                             vendedor         marca valor_limpo  \n",
              "0             SAMUEL HENRIQUE CAÇADOR  porto alegre       16,87  \n",
              "1  MICAEL MALAQUIAS DE SOUZA OLIVEIRA        fugini        3,25  \n",
              "2         HENRICO MATOS LIMA DA CUNHA       minalba        1,63  \n",
              "3           GABRIEL QUEIROZ DE AGUIAR    marca-brás        8,74  \n",
              "4         HENRICO MATOS LIMA DA CUNHA    3 corações        9,48  "
            ],
            "text/html": [
              "\n",
              "  <div id=\"df-972f07ad-57ad-46ce-86e5-6ea0af292548\" class=\"colab-df-container\">\n",
              "    <div>\n",
              "<style scoped>\n",
              "    .dataframe tbody tr th:only-of-type {\n",
              "        vertical-align: middle;\n",
              "    }\n",
              "\n",
              "    .dataframe tbody tr th {\n",
              "        vertical-align: top;\n",
              "    }\n",
              "\n",
              "    .dataframe thead th {\n",
              "        text-align: right;\n",
              "    }\n",
              "</style>\n",
              "<table border=\"1\" class=\"dataframe\">\n",
              "  <thead>\n",
              "    <tr style=\"text-align: right;\">\n",
              "      <th></th>\n",
              "      <th>id_da_compra</th>\n",
              "      <th>data</th>\n",
              "      <th>hora</th>\n",
              "      <th>cliente</th>\n",
              "      <th>produto</th>\n",
              "      <th>valor</th>\n",
              "      <th>quantidade</th>\n",
              "      <th>total</th>\n",
              "      <th>status</th>\n",
              "      <th>cidade</th>\n",
              "      <th>estado</th>\n",
              "      <th>pais</th>\n",
              "      <th>frete</th>\n",
              "      <th>pagamento</th>\n",
              "      <th>vendedor</th>\n",
              "      <th>marca</th>\n",
              "      <th>valor_limpo</th>\n",
              "    </tr>\n",
              "  </thead>\n",
              "  <tbody>\n",
              "    <tr>\n",
              "      <th>0</th>\n",
              "      <td>13679</td>\n",
              "      <td>2021-03-20</td>\n",
              "      <td>23:35:51</td>\n",
              "      <td>LUCAS ARAUJO KUHN</td>\n",
              "      <td>Queijo Mussarela</td>\n",
              "      <td>16.87</td>\n",
              "      <td>13</td>\n",
              "      <td>239.31</td>\n",
              "      <td>pagamento confirmado</td>\n",
              "      <td>niterói</td>\n",
              "      <td>rj</td>\n",
              "      <td>brasil</td>\n",
              "      <td>20.0</td>\n",
              "      <td>cartão de crédito</td>\n",
              "      <td>SAMUEL HENRIQUE CAÇADOR</td>\n",
              "      <td>porto alegre</td>\n",
              "      <td>16,87</td>\n",
              "    </tr>\n",
              "    <tr>\n",
              "      <th>1</th>\n",
              "      <td>28070</td>\n",
              "      <td>2020-10-30</td>\n",
              "      <td>09:00:53</td>\n",
              "      <td>MICAEL SOUZA RONCETE</td>\n",
              "      <td>Molho De Tomate</td>\n",
              "      <td>3.25</td>\n",
              "      <td>3</td>\n",
              "      <td>9.75</td>\n",
              "      <td>pagamento confirmado</td>\n",
              "      <td>mariana</td>\n",
              "      <td>mg</td>\n",
              "      <td>brasil</td>\n",
              "      <td>0.0</td>\n",
              "      <td>pix</td>\n",
              "      <td>MICAEL MALAQUIAS DE SOUZA OLIVEIRA</td>\n",
              "      <td>fugini</td>\n",
              "      <td>3,25</td>\n",
              "    </tr>\n",
              "    <tr>\n",
              "      <th>2</th>\n",
              "      <td>47484</td>\n",
              "      <td>2021-06-09</td>\n",
              "      <td>15:30:28</td>\n",
              "      <td>FELIPE AUGUSTO NERY SILVA</td>\n",
              "      <td>Água Mineral</td>\n",
              "      <td>1.63</td>\n",
              "      <td>9</td>\n",
              "      <td>36.67</td>\n",
              "      <td>pagamento confirmado</td>\n",
              "      <td>cabo frio</td>\n",
              "      <td>rj</td>\n",
              "      <td>brasil</td>\n",
              "      <td>22.0</td>\n",
              "      <td>transferência bancária</td>\n",
              "      <td>HENRICO MATOS LIMA DA CUNHA</td>\n",
              "      <td>minalba</td>\n",
              "      <td>1,63</td>\n",
              "    </tr>\n",
              "    <tr>\n",
              "      <th>3</th>\n",
              "      <td>20809</td>\n",
              "      <td>2022-06-04</td>\n",
              "      <td>08:41:23</td>\n",
              "      <td>LEVI RIBEIRO AMORIM</td>\n",
              "      <td>Carvão</td>\n",
              "      <td>8.74</td>\n",
              "      <td>4</td>\n",
              "      <td>54.96</td>\n",
              "      <td>em separação</td>\n",
              "      <td>campos dos goytacazes</td>\n",
              "      <td>rj</td>\n",
              "      <td>brasil</td>\n",
              "      <td>20.0</td>\n",
              "      <td>pix</td>\n",
              "      <td>GABRIEL QUEIROZ DE AGUIAR</td>\n",
              "      <td>marca-brás</td>\n",
              "      <td>8,74</td>\n",
              "    </tr>\n",
              "    <tr>\n",
              "      <th>4</th>\n",
              "      <td>47123</td>\n",
              "      <td>2019-05-04</td>\n",
              "      <td>13:38:45</td>\n",
              "      <td>GABRIEL MATOS LIMA DA CUNHA</td>\n",
              "      <td>Café</td>\n",
              "      <td>9.48</td>\n",
              "      <td>2</td>\n",
              "      <td>18.96</td>\n",
              "      <td>em separação</td>\n",
              "      <td>conselheiro lafaiete</td>\n",
              "      <td>mg</td>\n",
              "      <td>brasil</td>\n",
              "      <td>0.0</td>\n",
              "      <td>cartão de crédito</td>\n",
              "      <td>HENRICO MATOS LIMA DA CUNHA</td>\n",
              "      <td>3 corações</td>\n",
              "      <td>9,48</td>\n",
              "    </tr>\n",
              "  </tbody>\n",
              "</table>\n",
              "</div>\n",
              "    <div class=\"colab-df-buttons\">\n",
              "\n",
              "  <div class=\"colab-df-container\">\n",
              "    <button class=\"colab-df-convert\" onclick=\"convertToInteractive('df-972f07ad-57ad-46ce-86e5-6ea0af292548')\"\n",
              "            title=\"Convert this dataframe to an interactive table.\"\n",
              "            style=\"display:none;\">\n",
              "\n",
              "  <svg xmlns=\"http://www.w3.org/2000/svg\" height=\"24px\" viewBox=\"0 -960 960 960\">\n",
              "    <path d=\"M120-120v-720h720v720H120Zm60-500h600v-160H180v160Zm220 220h160v-160H400v160Zm0 220h160v-160H400v160ZM180-400h160v-160H180v160Zm440 0h160v-160H620v160ZM180-180h160v-160H180v160Zm440 0h160v-160H620v160Z\"/>\n",
              "  </svg>\n",
              "    </button>\n",
              "\n",
              "  <style>\n",
              "    .colab-df-container {\n",
              "      display:flex;\n",
              "      gap: 12px;\n",
              "    }\n",
              "\n",
              "    .colab-df-convert {\n",
              "      background-color: #E8F0FE;\n",
              "      border: none;\n",
              "      border-radius: 50%;\n",
              "      cursor: pointer;\n",
              "      display: none;\n",
              "      fill: #1967D2;\n",
              "      height: 32px;\n",
              "      padding: 0 0 0 0;\n",
              "      width: 32px;\n",
              "    }\n",
              "\n",
              "    .colab-df-convert:hover {\n",
              "      background-color: #E2EBFA;\n",
              "      box-shadow: 0px 1px 2px rgba(60, 64, 67, 0.3), 0px 1px 3px 1px rgba(60, 64, 67, 0.15);\n",
              "      fill: #174EA6;\n",
              "    }\n",
              "\n",
              "    .colab-df-buttons div {\n",
              "      margin-bottom: 4px;\n",
              "    }\n",
              "\n",
              "    [theme=dark] .colab-df-convert {\n",
              "      background-color: #3B4455;\n",
              "      fill: #D2E3FC;\n",
              "    }\n",
              "\n",
              "    [theme=dark] .colab-df-convert:hover {\n",
              "      background-color: #434B5C;\n",
              "      box-shadow: 0px 1px 3px 1px rgba(0, 0, 0, 0.15);\n",
              "      filter: drop-shadow(0px 1px 2px rgba(0, 0, 0, 0.3));\n",
              "      fill: #FFFFFF;\n",
              "    }\n",
              "  </style>\n",
              "\n",
              "    <script>\n",
              "      const buttonEl =\n",
              "        document.querySelector('#df-972f07ad-57ad-46ce-86e5-6ea0af292548 button.colab-df-convert');\n",
              "      buttonEl.style.display =\n",
              "        google.colab.kernel.accessAllowed ? 'block' : 'none';\n",
              "\n",
              "      async function convertToInteractive(key) {\n",
              "        const element = document.querySelector('#df-972f07ad-57ad-46ce-86e5-6ea0af292548');\n",
              "        const dataTable =\n",
              "          await google.colab.kernel.invokeFunction('convertToInteractive',\n",
              "                                                    [key], {});\n",
              "        if (!dataTable) return;\n",
              "\n",
              "        const docLinkHtml = 'Like what you see? Visit the ' +\n",
              "          '<a target=\"_blank\" href=https://colab.research.google.com/notebooks/data_table.ipynb>data table notebook</a>'\n",
              "          + ' to learn more about interactive tables.';\n",
              "        element.innerHTML = '';\n",
              "        dataTable['output_type'] = 'display_data';\n",
              "        await google.colab.output.renderOutput(dataTable, element);\n",
              "        const docLink = document.createElement('div');\n",
              "        docLink.innerHTML = docLinkHtml;\n",
              "        element.appendChild(docLink);\n",
              "      }\n",
              "    </script>\n",
              "  </div>\n",
              "\n",
              "\n",
              "<div id=\"df-47d15c4c-3f84-4814-8dd9-d9cb80621049\">\n",
              "  <button class=\"colab-df-quickchart\" onclick=\"quickchart('df-47d15c4c-3f84-4814-8dd9-d9cb80621049')\"\n",
              "            title=\"Suggest charts\"\n",
              "            style=\"display:none;\">\n",
              "\n",
              "<svg xmlns=\"http://www.w3.org/2000/svg\" height=\"24px\"viewBox=\"0 0 24 24\"\n",
              "     width=\"24px\">\n",
              "    <g>\n",
              "        <path d=\"M19 3H5c-1.1 0-2 .9-2 2v14c0 1.1.9 2 2 2h14c1.1 0 2-.9 2-2V5c0-1.1-.9-2-2-2zM9 17H7v-7h2v7zm4 0h-2V7h2v10zm4 0h-2v-4h2v4z\"/>\n",
              "    </g>\n",
              "</svg>\n",
              "  </button>\n",
              "\n",
              "<style>\n",
              "  .colab-df-quickchart {\n",
              "      --bg-color: #E8F0FE;\n",
              "      --fill-color: #1967D2;\n",
              "      --hover-bg-color: #E2EBFA;\n",
              "      --hover-fill-color: #174EA6;\n",
              "      --disabled-fill-color: #AAA;\n",
              "      --disabled-bg-color: #DDD;\n",
              "  }\n",
              "\n",
              "  [theme=dark] .colab-df-quickchart {\n",
              "      --bg-color: #3B4455;\n",
              "      --fill-color: #D2E3FC;\n",
              "      --hover-bg-color: #434B5C;\n",
              "      --hover-fill-color: #FFFFFF;\n",
              "      --disabled-bg-color: #3B4455;\n",
              "      --disabled-fill-color: #666;\n",
              "  }\n",
              "\n",
              "  .colab-df-quickchart {\n",
              "    background-color: var(--bg-color);\n",
              "    border: none;\n",
              "    border-radius: 50%;\n",
              "    cursor: pointer;\n",
              "    display: none;\n",
              "    fill: var(--fill-color);\n",
              "    height: 32px;\n",
              "    padding: 0;\n",
              "    width: 32px;\n",
              "  }\n",
              "\n",
              "  .colab-df-quickchart:hover {\n",
              "    background-color: var(--hover-bg-color);\n",
              "    box-shadow: 0 1px 2px rgba(60, 64, 67, 0.3), 0 1px 3px 1px rgba(60, 64, 67, 0.15);\n",
              "    fill: var(--button-hover-fill-color);\n",
              "  }\n",
              "\n",
              "  .colab-df-quickchart-complete:disabled,\n",
              "  .colab-df-quickchart-complete:disabled:hover {\n",
              "    background-color: var(--disabled-bg-color);\n",
              "    fill: var(--disabled-fill-color);\n",
              "    box-shadow: none;\n",
              "  }\n",
              "\n",
              "  .colab-df-spinner {\n",
              "    border: 2px solid var(--fill-color);\n",
              "    border-color: transparent;\n",
              "    border-bottom-color: var(--fill-color);\n",
              "    animation:\n",
              "      spin 1s steps(1) infinite;\n",
              "  }\n",
              "\n",
              "  @keyframes spin {\n",
              "    0% {\n",
              "      border-color: transparent;\n",
              "      border-bottom-color: var(--fill-color);\n",
              "      border-left-color: var(--fill-color);\n",
              "    }\n",
              "    20% {\n",
              "      border-color: transparent;\n",
              "      border-left-color: var(--fill-color);\n",
              "      border-top-color: var(--fill-color);\n",
              "    }\n",
              "    30% {\n",
              "      border-color: transparent;\n",
              "      border-left-color: var(--fill-color);\n",
              "      border-top-color: var(--fill-color);\n",
              "      border-right-color: var(--fill-color);\n",
              "    }\n",
              "    40% {\n",
              "      border-color: transparent;\n",
              "      border-right-color: var(--fill-color);\n",
              "      border-top-color: var(--fill-color);\n",
              "    }\n",
              "    60% {\n",
              "      border-color: transparent;\n",
              "      border-right-color: var(--fill-color);\n",
              "    }\n",
              "    80% {\n",
              "      border-color: transparent;\n",
              "      border-right-color: var(--fill-color);\n",
              "      border-bottom-color: var(--fill-color);\n",
              "    }\n",
              "    90% {\n",
              "      border-color: transparent;\n",
              "      border-bottom-color: var(--fill-color);\n",
              "    }\n",
              "  }\n",
              "</style>\n",
              "\n",
              "  <script>\n",
              "    async function quickchart(key) {\n",
              "      const quickchartButtonEl =\n",
              "        document.querySelector('#' + key + ' button');\n",
              "      quickchartButtonEl.disabled = true;  // To prevent multiple clicks.\n",
              "      quickchartButtonEl.classList.add('colab-df-spinner');\n",
              "      try {\n",
              "        const charts = await google.colab.kernel.invokeFunction(\n",
              "            'suggestCharts', [key], {});\n",
              "      } catch (error) {\n",
              "        console.error('Error during call to suggestCharts:', error);\n",
              "      }\n",
              "      quickchartButtonEl.classList.remove('colab-df-spinner');\n",
              "      quickchartButtonEl.classList.add('colab-df-quickchart-complete');\n",
              "    }\n",
              "    (() => {\n",
              "      let quickchartButtonEl =\n",
              "        document.querySelector('#df-47d15c4c-3f84-4814-8dd9-d9cb80621049 button');\n",
              "      quickchartButtonEl.style.display =\n",
              "        google.colab.kernel.accessAllowed ? 'block' : 'none';\n",
              "    })();\n",
              "  </script>\n",
              "</div>\n",
              "\n",
              "    </div>\n",
              "  </div>\n"
            ],
            "application/vnd.google.colaboratory.intrinsic+json": {
              "type": "dataframe",
              "variable_name": "df"
            }
          },
          "metadata": {},
          "execution_count": 165
        }
      ]
    },
    {
      "cell_type": "code",
      "source": [
        "df.dropna(inplace=True)\n",
        "\n",
        "df.drop_duplicates(inplace=True)\n",
        "\n",
        "df['produto'] = df['produto'].str.title().str.strip()\n",
        "\n",
        "df.drop(columns=['cep'], inplace=True)\n"
      ],
      "metadata": {
        "id": "DifnmUKpODir"
      },
      "execution_count": null,
      "outputs": []
    },
    {
      "cell_type": "code",
      "source": [
        "# Nome do arquivo CSV de saída\n",
        "nome_arquivo = 'novo_dataset_limpo.csv'\n",
        "\n",
        "# Exportar o DataFrame para CSV\n",
        "df.to_csv(nome_arquivo, index=False)\n",
        "\n",
        "# Fazer o download do arquivo (no ambiente do Colab)\n",
        "from google.colab import files\n",
        "files.download(nome_arquivo)"
      ],
      "metadata": {
        "colab": {
          "base_uri": "https://localhost:8080/",
          "height": 17
        },
        "id": "ACcxJNEy8XmJ",
        "outputId": "aa5cfe72-1413-4f4e-d7d6-4672b6869490"
      },
      "execution_count": null,
      "outputs": [
        {
          "output_type": "display_data",
          "data": {
            "text/plain": [
              "<IPython.core.display.Javascript object>"
            ],
            "application/javascript": [
              "\n",
              "    async function download(id, filename, size) {\n",
              "      if (!google.colab.kernel.accessAllowed) {\n",
              "        return;\n",
              "      }\n",
              "      const div = document.createElement('div');\n",
              "      const label = document.createElement('label');\n",
              "      label.textContent = `Downloading \"${filename}\": `;\n",
              "      div.appendChild(label);\n",
              "      const progress = document.createElement('progress');\n",
              "      progress.max = size;\n",
              "      div.appendChild(progress);\n",
              "      document.body.appendChild(div);\n",
              "\n",
              "      const buffers = [];\n",
              "      let downloaded = 0;\n",
              "\n",
              "      const channel = await google.colab.kernel.comms.open(id);\n",
              "      // Send a message to notify the kernel that we're ready.\n",
              "      channel.send({})\n",
              "\n",
              "      for await (const message of channel.messages) {\n",
              "        // Send a message to notify the kernel that we're ready.\n",
              "        channel.send({})\n",
              "        if (message.buffers) {\n",
              "          for (const buffer of message.buffers) {\n",
              "            buffers.push(buffer);\n",
              "            downloaded += buffer.byteLength;\n",
              "            progress.value = downloaded;\n",
              "          }\n",
              "        }\n",
              "      }\n",
              "      const blob = new Blob(buffers, {type: 'application/binary'});\n",
              "      const a = document.createElement('a');\n",
              "      a.href = window.URL.createObjectURL(blob);\n",
              "      a.download = filename;\n",
              "      div.appendChild(a);\n",
              "      a.click();\n",
              "      div.remove();\n",
              "    }\n",
              "  "
            ]
          },
          "metadata": {}
        },
        {
          "output_type": "display_data",
          "data": {
            "text/plain": [
              "<IPython.core.display.Javascript object>"
            ],
            "application/javascript": [
              "download(\"download_e95632cf-7405-4bd0-85fc-64c2e44cffa2\", \"novo_dataset_limpo.csv\", 64243232)"
            ]
          },
          "metadata": {}
        }
      ]
    }
  ]
}